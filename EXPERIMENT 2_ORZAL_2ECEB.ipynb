{
 "cells": [
  {
   "cell_type": "markdown",
   "id": "15e45ba6-716a-4619-870c-ea47253589a6",
   "metadata": {},
   "source": [
    "# EXPERIMENT 2: NUMERICAL PYTHON (NUMPY)\n",
    "\n",
    "Orzal, Harvey Aaron E. \n",
    "\n",
    "2ECE - B\n",
    "\n",
    "## NORMALIZATION PROBLEM\n",
    "In this problem, create a random 5 x 5 ndarray and store it to variable X. Normalize X. Save your normalized ndarray as X_normalized.npy"
   ]
  },
  {
   "cell_type": "code",
   "execution_count": 5,
   "id": "fab86163-a3f7-4afd-82be-4dc23fc87689",
   "metadata": {},
   "outputs": [
    {
     "name": "stdout",
     "output_type": "stream",
     "text": [
      "Original X:\n",
      " [[0.23599807 0.91817067 0.02475937 0.81658665 0.0819693 ]\n",
      " [0.44413458 0.03084544 0.21198212 0.02769572 0.8518395 ]\n",
      " [0.18553525 0.94370393 0.12851866 0.96227993 0.58397868]\n",
      " [0.1154174  0.07063931 0.84575734 0.51963213 0.52861569]\n",
      " [0.72091317 0.33576815 0.96893953 0.83299079 0.12391846]]\n",
      "\n",
      "Normalized X:\n",
      " [[-0.64626836  1.31815425 -1.25456324  1.02562721 -1.0898183 ]\n",
      " [-0.04690677 -1.23703745 -0.71542607 -1.24610756  1.12714328]\n",
      " [-0.79158396  1.39168128 -0.95577214  1.44517378  0.35579619]\n",
      " [-0.99349927 -1.12244477  1.10962875  0.17050025  0.19636979]\n",
      " [ 0.75012045 -0.35896484  1.46435115  1.07286549 -0.96901914]]\n"
     ]
    }
   ],
   "source": [
    "import numpy as np\n",
    "\n",
    "X = np.random.rand(5, 5)\n",
    "print(\"Original X:\\n\", X)\n",
    "\n",
    "mean = X.mean()\n",
    "std = X.std()\n",
    "X_normalized = (X - mean) / std\n",
    "print(\"\\nNormalized X:\\n\", X_normalized)\n",
    "\n",
    "np.save(\"X_normalized.npy\", X_normalized)"
   ]
  },
  {
   "cell_type": "markdown",
   "id": "a2afb015-cac7-4b86-960d-e7c99138adb6",
   "metadata": {},
   "source": [
    "## DIVISIBLE BY 3 PROBLEM\n",
    "Create the following 10 x 10 ndarray which are the square of the first 100 integers. From this ndarray, determine all the elements that are divisible by 3. Save the result as div_by_3.npy"
   ]
  },
  {
   "cell_type": "code",
   "execution_count": 7,
   "id": "12cbf78b-2a62-49c6-8b96-d35e84655b33",
   "metadata": {},
   "outputs": [
    {
     "name": "stdout",
     "output_type": "stream",
     "text": [
      "Matrix A:\n",
      " [[    1     4     9    16    25    36    49    64    81   100]\n",
      " [  121   144   169   196   225   256   289   324   361   400]\n",
      " [  441   484   529   576   625   676   729   784   841   900]\n",
      " [  961  1024  1089  1156  1225  1296  1369  1444  1521  1600]\n",
      " [ 1681  1764  1849  1936  2025  2116  2209  2304  2401  2500]\n",
      " [ 2601  2704  2809  2916  3025  3136  3249  3364  3481  3600]\n",
      " [ 3721  3844  3969  4096  4225  4356  4489  4624  4761  4900]\n",
      " [ 5041  5184  5329  5476  5625  5776  5929  6084  6241  6400]\n",
      " [ 6561  6724  6889  7056  7225  7396  7569  7744  7921  8100]\n",
      " [ 8281  8464  8649  8836  9025  9216  9409  9604  9801 10000]]\n",
      "\n",
      "Divisible by 3:\n",
      " [   9   36   81  144  225  324  441  576  729  900 1089 1296 1521 1764\n",
      " 2025 2304 2601 2916 3249 3600 3969 4356 4761 5184 5625 6084 6561 7056\n",
      " 7569 8100 8649 9216 9801]\n"
     ]
    }
   ],
   "source": [
    "import numpy as np\n",
    "\n",
    "numbers = np.arange(1, 101)\n",
    "squares = numbers**2 \n",
    "A = squares.reshape(10, 10)\n",
    "print(\"Matrix A:\\n\", A)\n",
    "\n",
    "div_by_3 = A[A % 3 == 0]\n",
    "print(\"\\nDivisible by 3:\\n\", div_by_3)"
   ]
  }
 ],
 "metadata": {
  "kernelspec": {
   "display_name": "Python 3 (ipykernel)",
   "language": "python",
   "name": "python3"
  },
  "language_info": {
   "codemirror_mode": {
    "name": "ipython",
    "version": 3
   },
   "file_extension": ".py",
   "mimetype": "text/x-python",
   "name": "python",
   "nbconvert_exporter": "python",
   "pygments_lexer": "ipython3",
   "version": "3.13.5"
  }
 },
 "nbformat": 4,
 "nbformat_minor": 5
}
